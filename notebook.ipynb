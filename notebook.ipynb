{
  "cells": [
    {
      "metadata": {
        "_execution_state": "idle",
        "_uuid": "1b3f1bf8774278a662425ffa8c754a47faf88769",
        "trusted": false,
        "_cell_guid": "76e6e718-d088-4b7f-a3e2-828b8f039c7d",
        "_kg_hide-input": true
      },
      "cell_type": "markdown",
      "source": "# This R environment comes with all of CRAN preinstalled, as well as many other helpful packages\n# The environment is defined by the kaggle/rstats docker image: https://github.com/kaggle/docker-rstats\n# For example, here's several helpful packages to load in \n\nlibrary(ggplot2) # Data visualization\nlibrary(readr) # CSV file I/O, e.g. the read_csv function\n# Any results you write to the current directory are saved as output.\ntrain_data<- read.csv(\"../input/train.csv\")\n\ntrain_data$Child <-0\ntrain_data$Child[train_data$Age<18] <- 1\n\ntest_data<- read.csv(\"../input/test.csv\")\n\ntest_one <-test_data\n# Initialize a Survived column to 0\ntest_one$Survived <- 0\n\n# Set Survived to 1 if Sex equals \"female\"\ntest_one$Survived[test_one$Sex ==\"female\"]<-1\n\npredict1<-data.frame(test_one$PassengerId,test_one$Survived)\nnames(predict1)<-c(\"PassengerId\",\"Survived\")\nrownames(predict1)<-NULL\nwrite.csv(predict1,file = \"../input/predict1.csv\",row.names=FALSE)\n\ntest_two <-test_data\n# Initialize a Survived column to 0\ntest_two$Survived <- 0\n\n# Create the column child, and indicate whether child or no child\ntest_two$Child <-0\ntest_two$Child[test_two$Age<18] <- 1\n\nsummary(train_data$Age)\n##    Min. 1st Qu.  Median    Mean 3rd Qu.    Max.    NA's \n##    0.42   20.12   28.00   29.70   38.00   80.00     177\nsummary(train_data$Sex)\n## female   male \n##    314    577\nprop.table(table(train_data$Sex, train_data$Survived))\n\nprop.table(table(train_data$Sex, train_data$Survived),1)\n\n# Set Survived to 1 if Sex equals \"female\" and age==0\ntest_two$Survived[test_two$Sex ==\"female\" & test_two$Child== 0]<-1\n\npredict2<-data.frame(test_two$PassengerId,test_two$Survived)\nnames(predict2)<-c(\"PassengerId\",\"Survived\")\nrownames(predict2)<-NULL\nwrite.csv(predict2,file = \"../input/predict2.csv\",row.names=FALSE)"
    }
  ],
  "metadata": {
    "kernelspec": {
      "display_name": "R",
      "language": "R",
      "name": "ir"
    },
    "language_info": {
      "mimetype": "text/x-r-source",
      "name": "R",
      "pygments_lexer": "r",
      "version": "3.4.2",
      "file_extension": ".r",
      "codemirror_mode": "r"
    }
  },
  "nbformat": 4,
  "nbformat_minor": 1
}